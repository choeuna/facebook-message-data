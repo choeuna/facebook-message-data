{
 "cells": [
  {
   "cell_type": "markdown",
   "metadata": {},
   "source": [
    "# Visualizing Facebook message data\n",
    "\n",
    "I'm unsure whether this is the most appropriate use of Jupyter notebooks or not but I'm using it anyway. I appreciate that I'm able to explain my thought process both for my later self and for whoever might happen upon this. Plus, I'm excited to use this for my future projects so let's start simple."
   ]
  },
  {
   "cell_type": "code",
   "execution_count": 1,
   "metadata": {},
   "outputs": [],
   "source": [
    "import json\n",
    "import re\n",
    "import pandas as pd\n",
    "import matplotlib.pyplot as plt\n",
    "import matplotlib.dates as mdates\n",
    "from wordcloud import WordCloud, STOPWORDS\n",
    "from pandas.plotting import register_matplotlib_converters\n",
    "register_matplotlib_converters()"
   ]
  },
  {
   "cell_type": "markdown",
   "metadata": {},
   "source": [
    "Facebook data is UTF-8 encoded but decoded as Latin-1. To fix this, we need to re-encode as Latin-1 and decode again as UTF-8. "
   ]
  },
  {
   "cell_type": "code",
   "execution_count": 2,
   "metadata": {},
   "outputs": [],
   "source": [
    "def fix_hex_string(s):\n",
    "\treturn re.sub(r'[\\xc2-\\xf4][\\x80-\\xbf]+', lambda m: m.group(0).encode('latin1').decode('utf8'), s)"
   ]
  },
  {
   "cell_type": "markdown",
   "metadata": {},
   "source": [
    "Quick sidenote: lambda is the coolest thing ever.\n",
    "\n",
    "Another note: I didn't address casing in 'clean_data' because I typically write in all lowercase. Removing phrases with casing first and then lowering will mean a smaller possibility of losing meaningful content."
   ]
  },
  {
   "cell_type": "code",
   "execution_count": 3,
   "metadata": {},
   "outputs": [],
   "source": [
    "def clean_data(raw_data):\n",
    "    for message in raw_data['messages']:\n",
    "        if 'content' in message:\n",
    "            message['content'] = fix_hex_string(message['content'])\n",
    "            # two kinds of apostrophes in text\n",
    "            message['content'] = re.sub(r'’',\"'\",message['content']) \n",
    "            message['content'] = re.sub(r'[^\\w\\'<\\s]+','',message['content']) \n",
    "            # remove all punctuation except apostrophe and < because of <3s\n",
    "    return"
   ]
  },
  {
   "cell_type": "markdown",
   "metadata": {},
   "source": [
    "The data includes text content for each file, photo, sticker, GIF, etc. exchanged. This text is structured as, \"PersonA sent a(n) [object here].\" This skews data by increasing instances of \"you, PersonA, sent\" and the various objects so we remove rows with these messages.\n",
    "\n",
    "The following function needs to be changed for improved generalizability(?). Depending on an individual's typing style, this could remove meaningful messages and not just some stickers. Need to find out how to do something along the lines of \"You called .\" and \" called you.\"\n",
    "\n",
    "Differentiating between phrases that start and end a message helps but does not eliminate the possibility of above occuring but this overrides the previous filter."
   ]
  },
  {
   "cell_type": "code",
   "execution_count": 4,
   "metadata": {},
   "outputs": [],
   "source": [
    "def create_dataframes(cleaned_data):\n",
    "    columns_list = ['timestamp_ms','sender_name','content']\n",
    "    filter_phrases = ['You missed a call from','You missed a video chat with',\\\n",
    "                      'The video chat ended','You called ', 'You are now connected on Messenger',\\\n",
    "                      'missed your call','missed your video chat', 'sent a voice message',\\\n",
    "                      'sent a photo', 'sent a link','sent a video', 'sent a sticker',\\\n",
    "                      'sent a GIF', 'sent an attachment','sent a live location',\\\n",
    "                      'sent an event link', 'called you']\n",
    "    \n",
    "    df = pd.DataFrame(data=cleaned_data['messages'], columns=columns_list)\n",
    "    filtered_df = df[df.content.str.contains('|'.join(filter_phrases)) == False] \n",
    "\n",
    "    return df, filtered_df"
   ]
  },
  {
   "cell_type": "code",
   "execution_count": 5,
   "metadata": {},
   "outputs": [],
   "source": [
    "def generate_common_words_bar_graph(filtered_message_data):\n",
    "    # create series of all words used and get respective counts\n",
    "    all_words = pd.Series(' '.join(filtered_message_data['content']).lower().split()).value_counts()\n",
    "    \n",
    "    # creating new dataframe to sort by count and removing low value words\n",
    "    word_count_df = pd.DataFrame({'Count':all_words.values}, index=all_words.index)\n",
    "    \n",
    "    useless_words = ['u', 'lol', 'im', 'yeah', 'ya', 'oh', 'ye']\n",
    "    for word in useless_words:\n",
    "        STOPWORDS.add(word)\n",
    "    word_count_df = word_count_df[word_count_df.index.isin(STOPWORDS)==False]\n",
    "    \n",
    "    word_count_df[:50].plot(\n",
    "        kind='barh', \n",
    "        title='Most Commonly Used Words', \n",
    "        figsize=(12, 15), \n",
    "        fontsize=14, \n",
    "        legend=False\n",
    "    )\n",
    "    \n",
    "    return"
   ]
  },
  {
   "cell_type": "code",
   "execution_count": 6,
   "metadata": {},
   "outputs": [],
   "source": [
    "def generate_wordcloud(filtered_message_data):\n",
    "    text = filtered_message_data['content'].str.cat(sep = '\\n').lower()\n",
    "    \n",
    "    useless_words = ['u', 'im', 'yeah', 'ya', 'oh', 'ye']\n",
    "    for word in useless_words:\n",
    "        STOPWORDS.add(word)\n",
    "    \n",
    "    wordcloud = WordCloud(\n",
    "        width=1500, \n",
    "        height=1500, \n",
    "        max_font_size=400, \n",
    "        stopwords=STOPWORDS,\n",
    "        collocations=False\n",
    "    ).generate(text)\n",
    "    \n",
    "    plt.figure(figsize=(80,80))\n",
    "    plt.imshow(wordcloud, interpolation='bilinear')\n",
    "    plt.axis('off')\n",
    "    \n",
    "    return"
   ]
  },
  {
   "cell_type": "code",
   "execution_count": 7,
   "metadata": {},
   "outputs": [],
   "source": [
    "def messages_exchanged_per(message_data, frequency):\n",
    "    \n",
    "    message_data['timestamp'] = message_data.apply\\\n",
    "                                (lambda x: pd.to_datetime(x['timestamp_ms'], unit='ms')\\\n",
    "                                 .tz_localize(tz='UTC', ambiguous=True)\\\n",
    "                                 .tz_convert(tz='America/Toronto'), axis=1)\n",
    "    \n",
    "    figure, ax = plt.subplots(figsize=(16,10))\n",
    "    sender_grouped_data = message_data.groupby\\\n",
    "                        ([pd.Grouper(key='timestamp',freq=frequency), 'sender_name'])\n",
    "    histogram = sender_grouped_data['content'].count()\n",
    "    data = histogram.unstack()\n",
    "    \n",
    "    prev_plt = None\n",
    "    for name in data:\n",
    "        if prev_plt is not None:\n",
    "            plt.bar(data.index, data[name], width=5, bottom=data[prev_plt]).set_label(name)\n",
    "        else:\n",
    "            plt.bar(data.index, data[name], width=5).set_label(name)\n",
    "            prev_plt = name\n",
    "    \n",
    "    plt.legend()\n",
    "    ax.get_xticks()\n",
    "    ax.xaxis.set_major_formatter(mdates.DateFormatter(\"%b %y\"))\n",
    "    figure.autofmt_xdate()\n",
    "    "
   ]
  },
  {
   "cell_type": "code",
   "execution_count": 8,
   "metadata": {},
   "outputs": [
    {
     "data": {
      "image/png": "[encoded data removed]",
      "text/plain": [
       "<Figure size 1152x720 with 1 Axes>"
      ]
     },
     "metadata": {
      "needs_background": "light"
     },
     "output_type": "display_data"
    }
   ],
   "source": [
    "file_name = '/Users/rebeccacho/Desktop/Messages/TakAlguire_ncyVNGMZQw/message.json'\n",
    "\n",
    "with open(file_name, 'r') as file:\n",
    "    data_dump = json.load(file)\n",
    "\n",
    "clean_data(data_dump) # clean encoding and punctuation\n",
    "message_df, filtered_message_df = create_dataframes(data_dump) # remove stickers/attachments/etc.\n",
    "\n",
    "#generate_common_words_bar_graph(filtered_message_df)\n",
    "#generate_wordcloud(filtered_message_df) # later implement image-colouring\n",
    "messages_exchanged_per(message_df, \"M\")"
   ]
  },
  {
   "cell_type": "code",
   "execution_count": null,
   "metadata": {},
   "outputs": [],
   "source": []
  }
 ],
 "metadata": {
  "kernelspec": {
   "display_name": "Python 3",
   "language": "python",
   "name": "python3"
  },
  "language_info": {
   "codemirror_mode": {
    "name": "ipython",
    "version": 3
   },
   "file_extension": ".py",
   "mimetype": "text/x-python",
   "name": "python",
   "nbconvert_exporter": "python",
   "pygments_lexer": "ipython3",
   "version": "3.7.1"
  }
 },
 "nbformat": 4,
 "nbformat_minor": 2
}
